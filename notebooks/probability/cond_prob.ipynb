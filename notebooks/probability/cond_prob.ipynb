{
 "metadata": {
  "language_info": {
   "codemirror_mode": {
    "name": "ipython",
    "version": 3
   },
   "file_extension": ".py",
   "mimetype": "text/x-python",
   "name": "python",
   "nbconvert_exporter": "python",
   "pygments_lexer": "ipython3",
   "version": "3.7.7-final"
  },
  "orig_nbformat": 2,
  "kernelspec": {
   "name": "python3",
   "display_name": "Python 3.7.7 64-bit ('upp': conda)",
   "metadata": {
    "interpreter": {
     "hash": "4c6c1704d8a03e4775c7322f86036425ff380d055473196d495e2bd41cd3b29a"
    }
   }
  }
 },
 "nbformat": 4,
 "nbformat_minor": 2,
 "cells": [
  {
   "cell_type": "code",
   "execution_count": 1,
   "metadata": {},
   "outputs": [],
   "source": [
    "import matplotlib.pyplot as plt\n",
    "import numpy as np\n",
    "%matplotlib inline\n",
    "\n",
    "import pandas as pd\n",
    "import seaborn as sns\n",
    "sns.set()\n",
    "\n",
    "import plotly.express as px"
   ]
  },
  {
   "source": [
    "Condition Prob: \n",
    "\n",
    "Prob that something occuring given that sometging else occured first. Ex: What's the prob that you purchase another item given that you purcahsed another item first.\n",
    "\n",
    "* If I have two events that depend on each other, what's the probability that both will occur ?\n",
    "\n",
    "* P(A, B) is the probability of A and B both occuring indenpendtly of each other\n",
    "\n",
    "* P(B|A): probability of B given that A has occured, that implies some dependcies between A and B\n",
    "\n",
    "* We know:"
   ],
   "cell_type": "markdown",
   "metadata": {}
  },
  {
   "source": [
    "$$P(B|A)=\\frac{P(A,B)}{P(A)}$$"
   ],
   "cell_type": "markdown",
   "metadata": {}
  },
  {
   "source": [
    "Example:\n",
    "\n",
    "* I give my students two tests. 60% of them passed both tests, but the first test was easier - 80% passed that one. What percentage of students who passed the first test also passed the second?\n",
    "\n",
    "* A = passing the first test, B = passing the second test\n",
    "\n",
    "* So we are asking for P(B|A) - the probability of B given A\n",
    "\n",
    "* $P(B|A)=\\frac{P(A,B)}{P(A)}\\ = \\frac{P(0.6)}{P(0.8)}\\ = 0.75$\n",
    "\n",
    "* 75% of students who passed the first test passed the second."
   ],
   "cell_type": "markdown",
   "metadata": {}
  },
  {
   "source": [
    "Activity:\n",
    "\n",
    "Below is some code to create some fake data on how much stuff people purchase given their age range.\n",
    "\n",
    "It generates 100,000 random `people` and randomly assigns them as being in their 20's, 30's, 40's, 50's, 60's or 70's.\n",
    "\n",
    "It then assigns a lower probability for young people to buy stuff.\n",
    "\n",
    "In the end, we have two Python dictionaries:\n",
    "\n",
    "\"total\" contains the total number of people in each age group. \"Purchase\" contains the tital number of things purchased by people in each age group. The grand total of purchases is in totalPurchases, and we know the total number of people is 100,000."
   ],
   "cell_type": "markdown",
   "metadata": {}
  },
  {
   "cell_type": "code",
   "execution_count": 3,
   "metadata": {},
   "outputs": [],
   "source": [
    "from numpy import random\n",
    "random.seed(0)\n",
    "\n",
    "totals = {20:0, 30:0, 40:0, 50:0, 60:0, 70:0}\n",
    "purchases = {20:0, 30:0, 40:0, 50:0, 60:0, 70:0}\n",
    "totalPurchases = 0\n",
    "for _ in range(100000):\n",
    "    ageDecade = random.choice([20, 30, 40, 50, 60, 70])\n",
    "    purchasesProbability = float(ageDecade) / 100.0\n",
    "    totals[ageDecade] += 1\n",
    "    if (random.random() < purchasesProbability):\n",
    "        totalPurchases += 1\n",
    "        purchases[ageDecade] += 1"
   ]
  },
  {
   "cell_type": "code",
   "execution_count": 4,
   "metadata": {},
   "outputs": [
    {
     "output_type": "execute_result",
     "data": {
      "text/plain": [
       "{20: 16576, 30: 16619, 40: 16632, 50: 16805, 60: 16664, 70: 16704}"
      ]
     },
     "metadata": {},
     "execution_count": 4
    }
   ],
   "source": [
    "totals"
   ]
  },
  {
   "cell_type": "code",
   "execution_count": 5,
   "metadata": {},
   "outputs": [
    {
     "output_type": "execute_result",
     "data": {
      "text/plain": [
       "{20: 3392, 30: 4974, 40: 6670, 50: 8319, 60: 9944, 70: 11713}"
      ]
     },
     "metadata": {},
     "execution_count": 5
    }
   ],
   "source": [
    "purchases"
   ]
  },
  {
   "cell_type": "code",
   "execution_count": 6,
   "metadata": {},
   "outputs": [
    {
     "output_type": "execute_result",
     "data": {
      "text/plain": [
       "45012"
      ]
     },
     "metadata": {},
     "execution_count": 6
    }
   ],
   "source": [
    "totalPurchases"
   ]
  },
  {
   "source": [
    "* Let's compute P(E|F), where E is \"purchase\" and F is \"your are in 30's\". The probability of someone in their 30's buying something is just the percentage of how many 30-year-olds bought something:"
   ],
   "cell_type": "markdown",
   "metadata": {}
  },
  {
   "cell_type": "code",
   "execution_count": 7,
   "metadata": {},
   "outputs": [
    {
     "output_type": "stream",
     "name": "stdout",
     "text": [
      "P(purchase | 30s): 0.29929598652145134\n"
     ]
    }
   ],
   "source": [
    "PEF = float(purchases[30]) / float(totals[30])\n",
    "print('P(purchase | 30s): ' + str(PEF))"
   ]
  },
  {
   "source": [
    "P(F) is just the probability of being 30 in this data set:"
   ],
   "cell_type": "markdown",
   "metadata": {}
  },
  {
   "cell_type": "code",
   "execution_count": 8,
   "metadata": {},
   "outputs": [
    {
     "output_type": "stream",
     "name": "stdout",
     "text": [
      "P(30s): 0.16619\n"
     ]
    }
   ],
   "source": [
    "PF = float(totals[30]) / 100000.0\n",
    "print('P(30s): ' + str(PF))"
   ]
  },
  {
   "source": [
    "P(E) is the overall probability of buying something, regardless of your age:"
   ],
   "cell_type": "markdown",
   "metadata": {}
  },
  {
   "cell_type": "code",
   "execution_count": 9,
   "metadata": {},
   "outputs": [
    {
     "output_type": "stream",
     "name": "stdout",
     "text": [
      "P(Purchase): 0.45012\n"
     ]
    }
   ],
   "source": [
    "PE = float(totalPurchases) / 100000.0\n",
    "print('P(Purchase): ' + str(PE))"
   ]
  },
  {
   "source": [
    "If E and F were independt, then we would expect P(E|F) to be about the same as P(E). But they're not; P(E) is 0.45, and P(E|F) is 0.3. So, that tells us that E and F are dependent"
   ],
   "cell_type": "markdown",
   "metadata": {}
  },
  {
   "source": [
    "P(E, F) is different from P(E|F). P(E, F) would be the probability of both being in your 30's and buying solething, out of the total population - not just the population of people in their 30's:"
   ],
   "cell_type": "markdown",
   "metadata": {}
  },
  {
   "cell_type": "code",
   "execution_count": 10,
   "metadata": {},
   "outputs": [
    {
     "output_type": "stream",
     "name": "stdout",
     "text": [
      "P(30's, Purchase): 0.04974\n"
     ]
    }
   ],
   "source": [
    "print(\"P(30's, Purchase): \" + str(float(purchases[30]) / 100000.0))"
   ]
  },
  {
   "source": [
    "Let's also compute the product of P(E) and P(F), P(E)P(F):"
   ],
   "cell_type": "markdown",
   "metadata": {}
  },
  {
   "cell_type": "code",
   "execution_count": 15,
   "metadata": {},
   "outputs": [
    {
     "output_type": "stream",
     "name": "stdout",
     "text": [
      "P(30's)P(Purchase)0.07480544280000001\n"
     ]
    }
   ],
   "source": [
    "print(\"P(30's)P(Purchase)\" + str(PE * PF))"
   ]
  },
  {
   "source": [
    "Something you may learn in stats is that P(E, F) = P(E)P(F), but this assumes E and F are independent. We've found here that P(E, F) is about 0.5, while P(E)P(F) is about 0.75. So when E and F are dependent - and we have a conditional probability going on - we can't just say that P(E,F) = P(E)P(F).\n",
    "\n",
    "We can also check that P(E|F) = P(E,F)/P(F), which is the relationship we showed in the slides - and sure enough, it is:"
   ],
   "cell_type": "markdown",
   "metadata": {}
  },
  {
   "cell_type": "code",
   "execution_count": 18,
   "metadata": {},
   "outputs": [
    {
     "output_type": "stream",
     "name": "stdout",
     "text": [
      "0.29929598652145134\n"
     ]
    }
   ],
   "source": [
    "print((purchases[30] / 100000.0) / PF )"
   ]
  },
  {
   "cell_type": "code",
   "execution_count": null,
   "metadata": {},
   "outputs": [],
   "source": []
  }
 ]
}